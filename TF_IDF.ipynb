{
 "cells": [
  {
   "cell_type": "code",
   "execution_count": 1,
   "id": "41cd779a-fcfb-40b4-bf8a-85b8a469abfa",
   "metadata": {},
   "outputs": [],
   "source": [
    "from sklearn.feature_extraction.text import CountVectorizer"
   ]
  },
  {
   "cell_type": "code",
   "execution_count": 2,
   "id": "1c0c1205-fb4a-411f-80a7-a90690105315",
   "metadata": {},
   "outputs": [],
   "source": [
    "paragraph = \"\"\"\n",
    "The party was formed after a split in Shiv Sena as a result of the 2022 Maharashtra political crisis. The split was caused by Eknath Shinde, who staged a rebellion in the party, getting support of the majority of the MLAs of the Sena and later splitting from the group led by Uddhav Thackeray, forming the Maharashtra government with the Bharatiya Janata Party, in which Shinde got the post of chief minister whereas the BJP's Devendra Fadnavis became deputy chief minister. The two factions in the Sena later formed separate political parties, with the secular and progressive group, seeking to move further to the left, led by Uddhav Thackeray forming Shiv Sena (Uddhav Balasaheb Thackeray) whereas the traditional and original Hindu nationalist faction of the Shiv Sena led by Eknath Shinde formed the Balasahebanchi Shiv Sena.\n",
    "\"\"\""
   ]
  },
  {
   "cell_type": "code",
   "execution_count": 4,
   "id": "69031eaa-c1c7-4cd8-86a7-cf87ba331bfc",
   "metadata": {},
   "outputs": [
    {
     "name": "stderr",
     "output_type": "stream",
     "text": [
      "[nltk_data] Downloading package punkt to\n",
      "[nltk_data]     C:\\Users\\Laptop\\AppData\\Roaming\\nltk_data...\n",
      "[nltk_data]   Package punkt is already up-to-date!\n"
     ]
    },
    {
     "data": {
      "text/plain": [
       "True"
      ]
     },
     "execution_count": 4,
     "metadata": {},
     "output_type": "execute_result"
    }
   ],
   "source": [
    "import nltk \n",
    "nltk.download('punkt')"
   ]
  },
  {
   "cell_type": "code",
   "execution_count": 5,
   "id": "eefc67fa-36d0-4d64-bd1a-8bab732ced1a",
   "metadata": {},
   "outputs": [],
   "source": [
    "sentences = nltk.sent_tokenize(paragraph)"
   ]
  },
  {
   "cell_type": "code",
   "execution_count": 6,
   "id": "76a5536c-b3e9-47b6-911c-b6ef56404899",
   "metadata": {},
   "outputs": [
    {
     "data": {
      "text/plain": [
       "['\\nThe party was formed after a split in Shiv Sena as a result of the 2022 Maharashtra political crisis.',\n",
       " \"The split was caused by Eknath Shinde, who staged a rebellion in the party, getting support of the majority of the MLAs of the Sena and later splitting from the group led by Uddhav Thackeray, forming the Maharashtra government with the Bharatiya Janata Party, in which Shinde got the post of chief minister whereas the BJP's Devendra Fadnavis became deputy chief minister.\",\n",
       " 'The two factions in the Sena later formed separate political parties, with the secular and progressive group, seeking to move further to the left, led by Uddhav Thackeray forming Shiv Sena (Uddhav Balasaheb Thackeray) whereas the traditional and original Hindu nationalist faction of the Shiv Sena led by Eknath Shinde formed the Balasahebanchi Shiv Sena.']"
      ]
     },
     "execution_count": 6,
     "metadata": {},
     "output_type": "execute_result"
    }
   ],
   "source": [
    "sentences"
   ]
  },
  {
   "cell_type": "code",
   "execution_count": 11,
   "id": "adf02528-5a9e-4021-93fd-5f5797db032f",
   "metadata": {},
   "outputs": [],
   "source": [
    "import re\n",
    "corpus = []\n",
    "for i in range(len(sentences)):\n",
    "    review = re.sub('[^a-zA-Z]', ' ', sentences[i])\n",
    "    review = review.lower()\n",
    "    corpus.append(review)"
   ]
  },
  {
   "cell_type": "code",
   "execution_count": 12,
   "id": "93e73c51-a101-4a25-861e-e2e2241a9563",
   "metadata": {},
   "outputs": [
    {
     "data": {
      "text/plain": [
       "[' the party was formed after a split in shiv sena as a result of the      maharashtra political crisis ',\n",
       " 'the split was caused by eknath shinde  who staged a rebellion in the party  getting support of the majority of the mlas of the sena and later splitting from the group led by uddhav thackeray  forming the maharashtra government with the bharatiya janata party  in which shinde got the post of chief minister whereas the bjp s devendra fadnavis became deputy chief minister ',\n",
       " 'the two factions in the sena later formed separate political parties  with the secular and progressive group  seeking to move further to the left  led by uddhav thackeray forming shiv sena  uddhav balasaheb thackeray  whereas the traditional and original hindu nationalist faction of the shiv sena led by eknath shinde formed the balasahebanchi shiv sena ']"
      ]
     },
     "execution_count": 12,
     "metadata": {},
     "output_type": "execute_result"
    }
   ],
   "source": [
    "corpus"
   ]
  },
  {
   "cell_type": "code",
   "execution_count": 16,
   "id": "73c22a44-fc64-4688-852c-a7425ef6b45a",
   "metadata": {},
   "outputs": [
    {
     "name": "stderr",
     "output_type": "stream",
     "text": [
      "[nltk_data] Downloading package wordnet to\n",
      "[nltk_data]     C:\\Users\\Laptop\\AppData\\Roaming\\nltk_data...\n",
      "[nltk_data]   Package wordnet is already up-to-date!\n"
     ]
    },
    {
     "name": "stdout",
     "output_type": "stream",
     "text": [
      "party\n",
      "formed\n",
      "split\n",
      "shiv\n",
      "sena\n",
      "result\n",
      "maharashtra\n",
      "political\n",
      "crisis\n",
      "split\n",
      "caused\n",
      "eknath\n",
      "shinde\n",
      "staged\n",
      "rebellion\n",
      "party\n",
      "getting\n",
      "support\n",
      "majority\n",
      "mlas\n",
      "sena\n",
      "later\n",
      "splitting\n",
      "group\n",
      "led\n",
      "uddhav\n",
      "thackeray\n",
      "forming\n",
      "maharashtra\n",
      "government\n",
      "bharatiya\n",
      "janata\n",
      "party\n",
      "shinde\n",
      "got\n",
      "post\n",
      "chief\n",
      "minister\n",
      "whereas\n",
      "bjp\n",
      "devendra\n",
      "fadnavis\n",
      "became\n",
      "deputy\n",
      "chief\n",
      "minister\n",
      "two\n",
      "faction\n",
      "sena\n",
      "later\n",
      "formed\n",
      "separate\n",
      "political\n",
      "party\n",
      "secular\n",
      "progressive\n",
      "group\n",
      "seeking\n",
      "move\n",
      "left\n",
      "led\n",
      "uddhav\n",
      "thackeray\n",
      "forming\n",
      "shiv\n",
      "sena\n",
      "uddhav\n",
      "balasaheb\n",
      "thackeray\n",
      "whereas\n",
      "traditional\n",
      "original\n",
      "hindu\n",
      "nationalist\n",
      "faction\n",
      "shiv\n",
      "sena\n",
      "led\n",
      "eknath\n",
      "shinde\n",
      "formed\n",
      "balasahebanchi\n",
      "shiv\n",
      "sena\n"
     ]
    }
   ],
   "source": [
    "from nltk.corpus import stopwords\n",
    "from nltk.stem import WordNetLemmatizer\n",
    "nltk.download('wordnet')\n",
    "lemmatizer = WordNetLemmatizer()\n",
    "\n",
    "# lemmatization\n",
    "for sentence in corpus:\n",
    "    words = nltk.word_tokenize(sentence)\n",
    "    for word in words:\n",
    "        if word not in set(stopwords.words('english')):\n",
    "            print(lemmatizer.lemmatize(word))                                "
   ]
  },
  {
   "cell_type": "code",
   "execution_count": null,
   "id": "ebf251c6-6b88-4061-a76e-2121d02a2bbf",
   "metadata": {},
   "outputs": [],
   "source": []
  }
 ],
 "metadata": {
  "kernelspec": {
   "display_name": "Python 3 (ipykernel)",
   "language": "python",
   "name": "python3"
  },
  "language_info": {
   "codemirror_mode": {
    "name": "ipython",
    "version": 3
   },
   "file_extension": ".py",
   "mimetype": "text/x-python",
   "name": "python",
   "nbconvert_exporter": "python",
   "pygments_lexer": "ipython3",
   "version": "3.11.5"
  }
 },
 "nbformat": 4,
 "nbformat_minor": 5
}
