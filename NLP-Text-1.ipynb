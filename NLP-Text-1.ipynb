{
 "cells": [
  {
   "cell_type": "code",
   "execution_count": 1,
   "id": "390480fa-6f56-44ff-8614-44a575d03382",
   "metadata": {},
   "outputs": [
    {
     "name": "stdout",
     "output_type": "stream",
     "text": [
      "Defaulting to user installation because normal site-packages is not writeable\n",
      "Requirement already satisfied: nltk in c:\\users\\laptop\\appdata\\roaming\\python\\python311\\site-packages (3.8.1)\n",
      "Requirement already satisfied: click in c:\\users\\laptop\\appdata\\roaming\\python\\python311\\site-packages (from nltk) (8.1.7)\n",
      "Requirement already satisfied: joblib in c:\\users\\laptop\\appdata\\roaming\\python\\python311\\site-packages (from nltk) (1.3.2)\n",
      "Requirement already satisfied: regex>=2021.8.3 in c:\\users\\laptop\\appdata\\roaming\\python\\python311\\site-packages (from nltk) (2023.10.3)\n",
      "Requirement already satisfied: tqdm in c:\\users\\laptop\\appdata\\roaming\\python\\python311\\site-packages (from nltk) (4.66.1)\n",
      "Requirement already satisfied: colorama in c:\\users\\laptop\\appdata\\roaming\\python\\python311\\site-packages (from click->nltk) (0.4.6)\n"
     ]
    },
    {
     "name": "stderr",
     "output_type": "stream",
     "text": [
      "\n",
      "[notice] A new release of pip is available: 23.2.1 -> 23.3.1\n",
      "[notice] To update, run: python.exe -m pip install --upgrade pip\n"
     ]
    }
   ],
   "source": [
    "# installing libraries.\n",
    "!pip install nltk"
   ]
  },
  {
   "cell_type": "code",
   "execution_count": 2,
   "id": "436250b9-5004-4656-a6b3-512429ea49c4",
   "metadata": {},
   "outputs": [],
   "source": [
    "# random paragraph for text preprocessing\n",
    "paragraph = \"\"\"\n",
    "Iron Man is a 2008 American superhero film based on the Marvel Comics character of the same name. Produced by Marvel Studios and distributed by Paramount Pictures,[a] it is the first film in the Marvel Cinematic Universe (MCU). Directed by Jon Favreau from a screenplay by the writing teams of Mark Fergus and Hawk Ostby, and Art Marcum and Matt Holloway, the film stars Robert Downey Jr. as Tony Stark / Iron Man alongside Terrence Howard, Jeff Bridges, Gwyneth Paltrow, Leslie Bibb, and Shaun Toub. In the film, following his escape from captivity by a terrorist group, world-famous industrialist and master engineer Tony Stark builds a mechanized suit of armor and becomes the superhero Iron Man.\n",
    "A film featuring the character was in development at Universal Pictures, 20th Century Fox, and New Line Cinema at various times since 1990, before Marvel Studios reacquired the rights in 2005. Marvel put the project in production as its first self-financed film, with Paramount Pictures distributing. Favreau signed on as director in April 2006, and faced opposition from Marvel when trying to cast Downey in the title role; the actor was signed in September. Filming took place from March to June 2007, primarily in California to differentiate the film from numerous other superhero stories that are set in New York City-esque environments. During filming, the actors were free to create their own dialogue because pre-production was focused on the story and action. Rubber and metal versions of the armor, created by Stan Winston's company, were mixed with computer-generated imagery to create the title character.\n",
    "\"\"\"\n"
   ]
  },
  {
   "cell_type": "code",
   "execution_count": 3,
   "id": "aee51868-a0d1-41c8-a161-4fadf04e5a09",
   "metadata": {},
   "outputs": [
    {
     "data": {
      "text/plain": [
       "\"\\nIron Man is a 2008 American superhero film based on the Marvel Comics character of the same name. Produced by Marvel Studios and distributed by Paramount Pictures,[a] it is the first film in the Marvel Cinematic Universe (MCU). Directed by Jon Favreau from a screenplay by the writing teams of Mark Fergus and Hawk Ostby, and Art Marcum and Matt Holloway, the film stars Robert Downey Jr. as Tony Stark / Iron Man alongside Terrence Howard, Jeff Bridges, Gwyneth Paltrow, Leslie Bibb, and Shaun Toub. In the film, following his escape from captivity by a terrorist group, world-famous industrialist and master engineer Tony Stark builds a mechanized suit of armor and becomes the superhero Iron Man.\\nA film featuring the character was in development at Universal Pictures, 20th Century Fox, and New Line Cinema at various times since 1990, before Marvel Studios reacquired the rights in 2005. Marvel put the project in production as its first self-financed film, with Paramount Pictures distributing. Favreau signed on as director in April 2006, and faced opposition from Marvel when trying to cast Downey in the title role; the actor was signed in September. Filming took place from March to June 2007, primarily in California to differentiate the film from numerous other superhero stories that are set in New York City-esque environments. During filming, the actors were free to create their own dialogue because pre-production was focused on the story and action. Rubber and metal versions of the armor, created by Stan Winston's company, were mixed with computer-generated imagery to create the title character.\\n\""
      ]
     },
     "execution_count": 3,
     "metadata": {},
     "output_type": "execute_result"
    }
   ],
   "source": [
    "paragraph"
   ]
  },
  {
   "cell_type": "code",
   "execution_count": 16,
   "id": "19e0e0ce-f7c6-41a9-92e8-dc6e91f7dcea",
   "metadata": {},
   "outputs": [
    {
     "name": "stderr",
     "output_type": "stream",
     "text": [
      "[nltk_data] Downloading package stopwords to\n",
      "[nltk_data]     C:\\Users\\Laptop\\AppData\\Roaming\\nltk_data...\n",
      "[nltk_data]   Unzipping corpora\\stopwords.zip.\n"
     ]
    },
    {
     "data": {
      "text/plain": [
       "True"
      ]
     },
     "execution_count": 16,
     "metadata": {},
     "output_type": "execute_result"
    }
   ],
   "source": [
    "# importing the libraries for stemming and removing stopwords\n",
    "import nltk \n",
    "from nltk.stem import PorterStemmer\n",
    "from nltk.corpus import stopwords\n",
    "nltk.download('stopwords')"
   ]
  },
  {
   "cell_type": "code",
   "execution_count": 17,
   "id": "13ff90de-59fa-427e-80f7-c15e853f838e",
   "metadata": {},
   "outputs": [
    {
     "name": "stderr",
     "output_type": "stream",
     "text": [
      "[nltk_data] Downloading package punkt to\n",
      "[nltk_data]     C:\\Users\\Laptop\\AppData\\Roaming\\nltk_data...\n",
      "[nltk_data]   Package punkt is already up-to-date!\n"
     ]
    }
   ],
   "source": [
    "# tokenization => convert para into sentences;\n",
    "nltk.download('punkt')\n",
    "sentences = nltk.sent_tokenize(paragraph)"
   ]
  },
  {
   "cell_type": "code",
   "execution_count": 18,
   "id": "4af83e33-661e-498b-8086-f3e49656071f",
   "metadata": {},
   "outputs": [
    {
     "data": {
      "text/plain": [
       "['\\nIron Man is a 2008 American superhero film based on the Marvel Comics character of the same name.',\n",
       " 'Produced by Marvel Studios and distributed by Paramount Pictures,[a] it is the first film in the Marvel Cinematic Universe (MCU).',\n",
       " 'Directed by Jon Favreau from a screenplay by the writing teams of Mark Fergus and Hawk Ostby, and Art Marcum and Matt Holloway, the film stars Robert Downey Jr. as Tony Stark / Iron Man alongside Terrence Howard, Jeff Bridges, Gwyneth Paltrow, Leslie Bibb, and Shaun Toub.',\n",
       " 'In the film, following his escape from captivity by a terrorist group, world-famous industrialist and master engineer Tony Stark builds a mechanized suit of armor and becomes the superhero Iron Man.',\n",
       " 'A film featuring the character was in development at Universal Pictures, 20th Century Fox, and New Line Cinema at various times since 1990, before Marvel Studios reacquired the rights in 2005.',\n",
       " 'Marvel put the project in production as its first self-financed film, with Paramount Pictures distributing.',\n",
       " 'Favreau signed on as director in April 2006, and faced opposition from Marvel when trying to cast Downey in the title role; the actor was signed in September.',\n",
       " 'Filming took place from March to June 2007, primarily in California to differentiate the film from numerous other superhero stories that are set in New York City-esque environments.',\n",
       " 'During filming, the actors were free to create their own dialogue because pre-production was focused on the story and action.',\n",
       " \"Rubber and metal versions of the armor, created by Stan Winston's company, were mixed with computer-generated imagery to create the title character.\"]"
      ]
     },
     "execution_count": 18,
     "metadata": {},
     "output_type": "execute_result"
    }
   ],
   "source": [
    "sentences"
   ]
  },
  {
   "cell_type": "code",
   "execution_count": 19,
   "id": "9d71f5a4-b42e-4720-b084-5c2843d2b4d8",
   "metadata": {},
   "outputs": [],
   "source": [
    "# stemming -> getting the root or base word without meaning in faster or quicker way\n",
    "stem = PorterStemmer()"
   ]
  },
  {
   "cell_type": "code",
   "execution_count": 20,
   "id": "092e3e08-70d0-4f96-90d1-1026d00973a2",
   "metadata": {},
   "outputs": [
    {
     "name": "stdout",
     "output_type": "stream",
     "text": [
      "drink\n"
     ]
    }
   ],
   "source": [
    "print(stem.stem(\"drinking\"))"
   ]
  },
  {
   "cell_type": "code",
   "execution_count": 21,
   "id": "c3061b35-25b4-4682-9b97-df3befe1fd74",
   "metadata": {},
   "outputs": [],
   "source": [
    "# Lemmatization -> getting meaningful word\n",
    "from nltk.stem import WordNetLemmatizer"
   ]
  },
  {
   "cell_type": "code",
   "execution_count": 22,
   "id": "27fcbee7-4715-4abc-a8b8-82a0a1b6d81a",
   "metadata": {},
   "outputs": [],
   "source": [
    "lemmatizer = WordNetLemmatizer()"
   ]
  },
  {
   "cell_type": "code",
   "execution_count": 23,
   "id": "db76f621-94c7-490a-8f81-94935e09d2b4",
   "metadata": {},
   "outputs": [
    {
     "name": "stderr",
     "output_type": "stream",
     "text": [
      "[nltk_data] Downloading package wordnet to\n",
      "[nltk_data]     C:\\Users\\Laptop\\AppData\\Roaming\\nltk_data...\n",
      "[nltk_data]   Package wordnet is already up-to-date!\n"
     ]
    },
    {
     "data": {
      "text/plain": [
       "True"
      ]
     },
     "execution_count": 23,
     "metadata": {},
     "output_type": "execute_result"
    }
   ],
   "source": [
    "nltk.download('wordnet')"
   ]
  },
  {
   "cell_type": "code",
   "execution_count": 24,
   "id": "eb9e188d-e869-4624-93f9-38c44d699271",
   "metadata": {},
   "outputs": [
    {
     "data": {
      "text/plain": [
       "'go'"
      ]
     },
     "execution_count": 24,
     "metadata": {},
     "output_type": "execute_result"
    }
   ],
   "source": [
    "lemmatizer.lemmatize('goes')"
   ]
  },
  {
   "cell_type": "markdown",
   "id": "bd0fe38d-22e1-43e1-bd01-cc242589a39f",
   "metadata": {},
   "source": [
    "## Cleaning the data"
   ]
  },
  {
   "cell_type": "code",
   "execution_count": 25,
   "id": "0ed05144-5682-4ba6-979a-f068f455430c",
   "metadata": {},
   "outputs": [],
   "source": [
    "# importing regex\n",
    "import re\n",
    "corpus = []\n",
    "for i in range(len(sentences)):\n",
    "    # other than a to z or A to Z replace all other than that with space;\n",
    "    review = re.sub('[^a-zA-Z]', ' ', sentences[i])\n",
    "    review = review.lower()\n",
    "    # review = review.split()\n",
    "    corpus.append(review)"
   ]
  },
  {
   "cell_type": "code",
   "execution_count": 26,
   "id": "3ff13001-b905-4296-a614-0e1ce1a2954e",
   "metadata": {},
   "outputs": [
    {
     "data": {
      "text/plain": [
       "[' iron man is a      american superhero film based on the marvel comics character of the same name ',\n",
       " 'produced by marvel studios and distributed by paramount pictures  a  it is the first film in the marvel cinematic universe  mcu  ',\n",
       " 'directed by jon favreau from a screenplay by the writing teams of mark fergus and hawk ostby  and art marcum and matt holloway  the film stars robert downey jr  as tony stark   iron man alongside terrence howard  jeff bridges  gwyneth paltrow  leslie bibb  and shaun toub ',\n",
       " 'in the film  following his escape from captivity by a terrorist group  world famous industrialist and master engineer tony stark builds a mechanized suit of armor and becomes the superhero iron man ',\n",
       " 'a film featuring the character was in development at universal pictures    th century fox  and new line cinema at various times since       before marvel studios reacquired the rights in      ',\n",
       " 'marvel put the project in production as its first self financed film  with paramount pictures distributing ',\n",
       " 'favreau signed on as director in april       and faced opposition from marvel when trying to cast downey in the title role  the actor was signed in september ',\n",
       " 'filming took place from march to june       primarily in california to differentiate the film from numerous other superhero stories that are set in new york city esque environments ',\n",
       " 'during filming  the actors were free to create their own dialogue because pre production was focused on the story and action ',\n",
       " 'rubber and metal versions of the armor  created by stan winston s company  were mixed with computer generated imagery to create the title character ']"
      ]
     },
     "execution_count": 26,
     "metadata": {},
     "output_type": "execute_result"
    }
   ],
   "source": [
    "corpus"
   ]
  },
  {
   "cell_type": "code",
   "execution_count": 28,
   "id": "d6870b92-da89-4dda-b799-4c05e6dad51e",
   "metadata": {},
   "outputs": [
    {
     "data": {
      "text/plain": [
       "['i',\n",
       " 'me',\n",
       " 'my',\n",
       " 'myself',\n",
       " 'we',\n",
       " 'our',\n",
       " 'ours',\n",
       " 'ourselves',\n",
       " 'you',\n",
       " \"you're\",\n",
       " \"you've\",\n",
       " \"you'll\",\n",
       " \"you'd\",\n",
       " 'your',\n",
       " 'yours',\n",
       " 'yourself',\n",
       " 'yourselves',\n",
       " 'he',\n",
       " 'him',\n",
       " 'his',\n",
       " 'himself',\n",
       " 'she',\n",
       " \"she's\",\n",
       " 'her',\n",
       " 'hers',\n",
       " 'herself',\n",
       " 'it',\n",
       " \"it's\",\n",
       " 'its',\n",
       " 'itself',\n",
       " 'they',\n",
       " 'them',\n",
       " 'their',\n",
       " 'theirs',\n",
       " 'themselves',\n",
       " 'what',\n",
       " 'which',\n",
       " 'who',\n",
       " 'whom',\n",
       " 'this',\n",
       " 'that',\n",
       " \"that'll\",\n",
       " 'these',\n",
       " 'those',\n",
       " 'am',\n",
       " 'is',\n",
       " 'are',\n",
       " 'was',\n",
       " 'were',\n",
       " 'be',\n",
       " 'been',\n",
       " 'being',\n",
       " 'have',\n",
       " 'has',\n",
       " 'had',\n",
       " 'having',\n",
       " 'do',\n",
       " 'does',\n",
       " 'did',\n",
       " 'doing',\n",
       " 'a',\n",
       " 'an',\n",
       " 'the',\n",
       " 'and',\n",
       " 'but',\n",
       " 'if',\n",
       " 'or',\n",
       " 'because',\n",
       " 'as',\n",
       " 'until',\n",
       " 'while',\n",
       " 'of',\n",
       " 'at',\n",
       " 'by',\n",
       " 'for',\n",
       " 'with',\n",
       " 'about',\n",
       " 'against',\n",
       " 'between',\n",
       " 'into',\n",
       " 'through',\n",
       " 'during',\n",
       " 'before',\n",
       " 'after',\n",
       " 'above',\n",
       " 'below',\n",
       " 'to',\n",
       " 'from',\n",
       " 'up',\n",
       " 'down',\n",
       " 'in',\n",
       " 'out',\n",
       " 'on',\n",
       " 'off',\n",
       " 'over',\n",
       " 'under',\n",
       " 'again',\n",
       " 'further',\n",
       " 'then',\n",
       " 'once',\n",
       " 'here',\n",
       " 'there',\n",
       " 'when',\n",
       " 'where',\n",
       " 'why',\n",
       " 'how',\n",
       " 'all',\n",
       " 'any',\n",
       " 'both',\n",
       " 'each',\n",
       " 'few',\n",
       " 'more',\n",
       " 'most',\n",
       " 'other',\n",
       " 'some',\n",
       " 'such',\n",
       " 'no',\n",
       " 'nor',\n",
       " 'not',\n",
       " 'only',\n",
       " 'own',\n",
       " 'same',\n",
       " 'so',\n",
       " 'than',\n",
       " 'too',\n",
       " 'very',\n",
       " 's',\n",
       " 't',\n",
       " 'can',\n",
       " 'will',\n",
       " 'just',\n",
       " 'don',\n",
       " \"don't\",\n",
       " 'should',\n",
       " \"should've\",\n",
       " 'now',\n",
       " 'd',\n",
       " 'll',\n",
       " 'm',\n",
       " 'o',\n",
       " 're',\n",
       " 've',\n",
       " 'y',\n",
       " 'ain',\n",
       " 'aren',\n",
       " \"aren't\",\n",
       " 'couldn',\n",
       " \"couldn't\",\n",
       " 'didn',\n",
       " \"didn't\",\n",
       " 'doesn',\n",
       " \"doesn't\",\n",
       " 'hadn',\n",
       " \"hadn't\",\n",
       " 'hasn',\n",
       " \"hasn't\",\n",
       " 'haven',\n",
       " \"haven't\",\n",
       " 'isn',\n",
       " \"isn't\",\n",
       " 'ma',\n",
       " 'mightn',\n",
       " \"mightn't\",\n",
       " 'mustn',\n",
       " \"mustn't\",\n",
       " 'needn',\n",
       " \"needn't\",\n",
       " 'shan',\n",
       " \"shan't\",\n",
       " 'shouldn',\n",
       " \"shouldn't\",\n",
       " 'wasn',\n",
       " \"wasn't\",\n",
       " 'weren',\n",
       " \"weren't\",\n",
       " 'won',\n",
       " \"won't\",\n",
       " 'wouldn',\n",
       " \"wouldn't\"]"
      ]
     },
     "execution_count": 28,
     "metadata": {},
     "output_type": "execute_result"
    }
   ],
   "source": [
    "stopwords.words('english')"
   ]
  },
  {
   "cell_type": "code",
   "execution_count": 27,
   "id": "ca5188a0-2edb-490e-a6c8-9614ddc60e9e",
   "metadata": {},
   "outputs": [
    {
     "name": "stdout",
     "output_type": "stream",
     "text": [
      "iron\n",
      "man\n",
      "american\n",
      "superhero\n",
      "film\n",
      "base\n",
      "marvel\n",
      "comic\n",
      "charact\n",
      "name\n",
      "produc\n",
      "marvel\n",
      "studio\n",
      "distribut\n",
      "paramount\n",
      "pictur\n",
      "first\n",
      "film\n",
      "marvel\n",
      "cinemat\n",
      "univers\n",
      "mcu\n",
      "direct\n",
      "jon\n",
      "favreau\n",
      "screenplay\n",
      "write\n",
      "team\n",
      "mark\n",
      "fergu\n",
      "hawk\n",
      "ostbi\n",
      "art\n",
      "marcum\n",
      "matt\n",
      "holloway\n",
      "film\n",
      "star\n",
      "robert\n",
      "downey\n",
      "jr\n",
      "toni\n",
      "stark\n",
      "iron\n",
      "man\n",
      "alongsid\n",
      "terrenc\n",
      "howard\n",
      "jeff\n",
      "bridg\n",
      "gwyneth\n",
      "paltrow\n",
      "lesli\n",
      "bibb\n",
      "shaun\n",
      "toub\n",
      "film\n",
      "follow\n",
      "escap\n",
      "captiv\n",
      "terrorist\n",
      "group\n",
      "world\n",
      "famou\n",
      "industrialist\n",
      "master\n",
      "engin\n",
      "toni\n",
      "stark\n",
      "build\n",
      "mechan\n",
      "suit\n",
      "armor\n",
      "becom\n",
      "superhero\n",
      "iron\n",
      "man\n",
      "film\n",
      "featur\n",
      "charact\n",
      "develop\n",
      "univers\n",
      "pictur\n",
      "th\n",
      "centuri\n",
      "fox\n",
      "new\n",
      "line\n",
      "cinema\n",
      "variou\n",
      "time\n",
      "sinc\n",
      "marvel\n",
      "studio\n",
      "reacquir\n",
      "right\n",
      "marvel\n",
      "put\n",
      "project\n",
      "product\n",
      "first\n",
      "self\n",
      "financ\n",
      "film\n",
      "paramount\n",
      "pictur\n",
      "distribut\n",
      "favreau\n",
      "sign\n",
      "director\n",
      "april\n",
      "face\n",
      "opposit\n",
      "marvel\n",
      "tri\n",
      "cast\n",
      "downey\n",
      "titl\n",
      "role\n",
      "actor\n",
      "sign\n",
      "septemb\n",
      "film\n",
      "took\n",
      "place\n",
      "march\n",
      "june\n",
      "primarili\n",
      "california\n",
      "differenti\n",
      "film\n",
      "numer\n",
      "superhero\n",
      "stori\n",
      "set\n",
      "new\n",
      "york\n",
      "citi\n",
      "esqu\n",
      "environ\n",
      "film\n",
      "actor\n",
      "free\n",
      "creat\n",
      "dialogu\n",
      "pre\n",
      "product\n",
      "focus\n",
      "stori\n",
      "action\n",
      "rubber\n",
      "metal\n",
      "version\n",
      "armor\n",
      "creat\n",
      "stan\n",
      "winston\n",
      "compani\n",
      "mix\n",
      "comput\n",
      "gener\n",
      "imageri\n",
      "creat\n",
      "titl\n",
      "charact\n"
     ]
    }
   ],
   "source": [
    "# stemming\n",
    "for i in corpus:\n",
    "    words = nltk.word_tokenize(i)\n",
    "    # print(i)\n",
    "    for word in words:\n",
    "        if word not in set(stopwords.words('english')):\n",
    "            print(stem.stem(word))"
   ]
  },
  {
   "cell_type": "code",
   "execution_count": 35,
   "id": "fd16794d-bd23-48ab-8db1-56f7c0d5f227",
   "metadata": {},
   "outputs": [
    {
     "name": "stdout",
     "output_type": "stream",
     "text": [
      "iron\n",
      "man\n",
      "american\n",
      "superhero\n",
      "film\n",
      "based\n",
      "marvel\n",
      "comic\n",
      "character\n",
      "name\n",
      "produced\n",
      "marvel\n",
      "studio\n",
      "distributed\n",
      "paramount\n",
      "picture\n",
      "first\n",
      "film\n",
      "marvel\n",
      "cinematic\n",
      "universe\n",
      "mcu\n",
      "directed\n",
      "jon\n",
      "favreau\n",
      "screenplay\n",
      "writing\n",
      "team\n",
      "mark\n",
      "fergus\n",
      "hawk\n",
      "ostby\n",
      "art\n",
      "marcum\n",
      "matt\n",
      "holloway\n",
      "film\n",
      "star\n",
      "robert\n",
      "downey\n",
      "jr\n",
      "tony\n",
      "stark\n",
      "iron\n",
      "man\n",
      "alongside\n",
      "terrence\n",
      "howard\n",
      "jeff\n",
      "bridge\n",
      "gwyneth\n",
      "paltrow\n",
      "leslie\n",
      "bibb\n",
      "shaun\n",
      "toub\n",
      "film\n",
      "following\n",
      "escape\n",
      "captivity\n",
      "terrorist\n",
      "group\n",
      "world\n",
      "famous\n",
      "industrialist\n",
      "master\n",
      "engineer\n",
      "tony\n",
      "stark\n",
      "build\n",
      "mechanized\n",
      "suit\n",
      "armor\n",
      "becomes\n",
      "superhero\n",
      "iron\n",
      "man\n",
      "film\n",
      "featuring\n",
      "character\n",
      "development\n",
      "universal\n",
      "picture\n",
      "th\n",
      "century\n",
      "fox\n",
      "new\n",
      "line\n",
      "cinema\n",
      "various\n",
      "time\n",
      "since\n",
      "marvel\n",
      "studio\n",
      "reacquired\n",
      "right\n",
      "marvel\n",
      "put\n",
      "project\n",
      "production\n",
      "first\n",
      "self\n",
      "financed\n",
      "film\n",
      "paramount\n",
      "picture\n",
      "distributing\n",
      "favreau\n",
      "signed\n",
      "director\n",
      "april\n",
      "faced\n",
      "opposition\n",
      "marvel\n",
      "trying\n",
      "cast\n",
      "downey\n",
      "title\n",
      "role\n",
      "actor\n",
      "signed\n",
      "september\n",
      "filming\n",
      "took\n",
      "place\n",
      "march\n",
      "june\n",
      "primarily\n",
      "california\n",
      "differentiate\n",
      "film\n",
      "numerous\n",
      "superhero\n",
      "story\n",
      "set\n",
      "new\n",
      "york\n",
      "city\n",
      "esque\n",
      "environment\n",
      "filming\n",
      "actor\n",
      "free\n",
      "create\n",
      "dialogue\n",
      "pre\n",
      "production\n",
      "focused\n",
      "story\n",
      "action\n",
      "rubber\n",
      "metal\n",
      "version\n",
      "armor\n",
      "created\n",
      "stan\n",
      "winston\n",
      "company\n",
      "mixed\n",
      "computer\n",
      "generated\n",
      "imagery\n",
      "create\n",
      "title\n",
      "character\n"
     ]
    }
   ],
   "source": [
    "# lemmatization\n",
    "for sentence in corpus:\n",
    "    words = nltk.word_tokenize(sentence)\n",
    "    for word in words:\n",
    "        if word not in set(stopwords.words('english')):\n",
    "            print(lemmatizer.lemmatize(word))"
   ]
  },
  {
   "cell_type": "code",
   "execution_count": null,
   "id": "d4283aab-e520-4b48-85d8-42c1973f8d92",
   "metadata": {},
   "outputs": [],
   "source": [
    "pip install sklearn"
   ]
  },
  {
   "cell_type": "code",
   "execution_count": 37,
   "id": "0d0a044d-72ba-4af3-a347-510ffd5d53e8",
   "metadata": {},
   "outputs": [
    {
     "ename": "ModuleNotFoundError",
     "evalue": "No module named 'sklearn'",
     "output_type": "error",
     "traceback": [
      "\u001b[1;31m---------------------------------------------------------------------------\u001b[0m",
      "\u001b[1;31mModuleNotFoundError\u001b[0m                       Traceback (most recent call last)",
      "Cell \u001b[1;32mIn[37], line 2\u001b[0m\n\u001b[0;32m      1\u001b[0m \u001b[38;5;66;03m# Bag of words;\u001b[39;00m\n\u001b[1;32m----> 2\u001b[0m \u001b[38;5;28;01mimport\u001b[39;00m \u001b[38;5;21;01msklearn\u001b[39;00m\n\u001b[0;32m      3\u001b[0m \u001b[38;5;28;01mfrom\u001b[39;00m \u001b[38;5;21;01msklearn\u001b[39;00m\u001b[38;5;21;01m.\u001b[39;00m\u001b[38;5;21;01mfeature_extraction\u001b[39;00m\u001b[38;5;21;01m.\u001b[39;00m\u001b[38;5;21;01mtext\u001b[39;00m \u001b[38;5;28;01mimport\u001b[39;00m countVectorizer\n",
      "\u001b[1;31mModuleNotFoundError\u001b[0m: No module named 'sklearn'"
     ]
    }
   ],
   "source": [
    "# Bag of words;\n",
    "from sklearn.feature_extraction.text import countVectorizer"
   ]
  },
  {
   "cell_type": "code",
   "execution_count": null,
   "id": "3e0d3f6b-7d39-44c9-932f-b51c9b5d1cb6",
   "metadata": {},
   "outputs": [],
   "source": []
  },
  {
   "cell_type": "code",
   "execution_count": null,
   "id": "f8f8863a-a13b-43d3-bbc0-bb1b8a8f4cc0",
   "metadata": {},
   "outputs": [],
   "source": []
  },
  {
   "cell_type": "code",
   "execution_count": null,
   "id": "5750a80d-b392-4e28-9878-19a6bf7716f6",
   "metadata": {},
   "outputs": [],
   "source": []
  },
  {
   "cell_type": "code",
   "execution_count": null,
   "id": "d5aea613-215f-4524-be92-7aadeac47a2d",
   "metadata": {},
   "outputs": [],
   "source": []
  }
 ],
 "metadata": {
  "kernelspec": {
   "display_name": "Python 3 (ipykernel)",
   "language": "python",
   "name": "python3"
  },
  "language_info": {
   "codemirror_mode": {
    "name": "ipython",
    "version": 3
   },
   "file_extension": ".py",
   "mimetype": "text/x-python",
   "name": "python",
   "nbconvert_exporter": "python",
   "pygments_lexer": "ipython3",
   "version": "3.11.5"
  }
 },
 "nbformat": 4,
 "nbformat_minor": 5
}
